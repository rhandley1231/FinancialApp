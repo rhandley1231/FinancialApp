{
  "cells": [
    {
      "cell_type": "markdown",
      "metadata": {
        "id": "view-in-github",
        "colab_type": "text"
      },
      "source": [
        "<a href=\"https://colab.research.google.com/github/rhandley1231/FinancialApp/blob/main/Problem_set_01_image_processing.ipynb\" target=\"_parent\"><img src=\"https://colab.research.google.com/assets/colab-badge.svg\" alt=\"Open In Colab\"/></a>"
      ]
    },
    {
      "cell_type": "code",
      "execution_count": null,
      "metadata": {
        "id": "cSkfie9YlgxU"
      },
      "outputs": [],
      "source": []
    },
    {
      "cell_type": "markdown",
      "metadata": {
        "id": "zNY4QljBl43Q"
      },
      "source": [
        "## Loading an image\n",
        "The example code below, uses PIL library to load an image. Notice that the image is first download from the URL, then we use `Image.open` method to open the image. Finally, we use the `np.asarray` method from the numpy library to conver the image into an array. Try to load execute the code below and see the image.  Then try to download other images from the web and load them.\n",
        "\n",
        "```python\n",
        "# Import the libraries needed.\n",
        "from PIL import Image, ImageFile\n",
        "from matplotlib.pyplot import imshow\n",
        "import requests\n",
        "from io import BytesIO\n",
        "import numpy as np\n",
        "\n",
        "%matplotlib inline\n",
        "\n",
        "# Spefiy the URL of the image.\n",
        "url = \"https://www.visitcyprus.com/media/k2/items/cache/c99e3db826c0f4cc2688a36ce3b60e1a_XL.jpg\"\n",
        "\n",
        "# Issue a get request to image source\n",
        "res = requests.get(url)\n",
        "\n",
        "# img is a PIL.JpegImagePlugin.JpegImageFile object, since the input image is jpg.\n",
        "img = Image.open(BytesIO(res.content))\n",
        "\n",
        "# Notice the shape of the array (797, 1175, 3), row, col, 3 colors\n",
        "img_data = np.asarray(img)\n",
        "\n",
        "print(img_data.shape)\n",
        "img\n",
        "\n",
        "```"
      ]
    },
    {
      "cell_type": "code",
      "execution_count": 5,
      "metadata": {
        "colab": {
          "base_uri": "https://localhost:8080/"
        },
        "id": "OvII2_PVl8sK",
        "outputId": "e3ca062f-ad4d-4253-9231-edb2aaaa2772"
      },
      "outputs": [
        {
          "output_type": "execute_result",
          "data": {
            "text/plain": [
              "<Response [404]>"
            ]
          },
          "metadata": {},
          "execution_count": 5
        }
      ],
      "source": [
        "# Try to execute the code here.\n",
        "from PIL import Image, ImageFile\n",
        "from matplotlib.pyplot import imshow\n",
        "import requests\n",
        "from io import BytesIO\n",
        "import numpy as np\n",
        "\n",
        "%matplotlib inline\n",
        "\n",
        "# Spefiy the URL of the image.\n",
        "url = \"https://www.visitcyprus.com/media/k2/items/cache/c99e3db826c0f4cc2688a36ce3b60e1a_XL.jpg\"\n",
        "\n",
        "# Issue a get request to image source\n",
        "res = requests.get(url)\n",
        "res\n",
        "\n",
        "# img is a PIL.JpegImagePlugin.JpegImageFile object, since the input image is jpg.\n",
        "img = Image.open(BytesIO(res.content))\n",
        "\n",
        "# Notice the shape of the array (797, 1175, 3), row, col, 3 colors\n",
        "img_data = np.asarray(img)\n",
        "\n",
        "print(img_data.shape)\n",
        "img"
      ]
    },
    {
      "cell_type": "markdown",
      "metadata": {
        "id": "A5GS9pyDoPLE"
      },
      "source": [
        "### Creating images from array values.\n",
        "\n",
        "The Pillow library allows us to create an image from a 3D numpy array. The rows and columns specify pixels while the depth specify the color coding of the pixel in rgb. In the example below, we create a ellipse ellipse using the [analytical equation](https://en.wikipedia.org/wiki/Ellipse) for ellipse:\n",
        "$$\n",
        "\\frac{x^2}{a^2} + \\frac{y^2}{b^2} = 1\n",
        "$$\n",
        "\n",
        "Here is a simple example creating an image from raw values.\n",
        "\n",
        "```python\n",
        "from PIL import Image  \n",
        "import numpy as np  \n",
        "\n",
        "# specify a 3D array of values - notice the values of the array as uint8 (i.e. bytes)\n",
        "w, h = 128, 128\n",
        "# Create a new array of dimensions h by w.\n",
        "\n",
        "data = np.zeros((h,w,3), dtype=np.uint8)\n",
        "\n",
        "a , b =  w/2, h/2\n",
        "\n",
        "cw,ch = w/2, h/2  # Center of the image.\n",
        "\n",
        "for x in range(128):\n",
        "  for y in range(128):\n",
        "    ellipse_radis = ((x-cw)*(x-cw)/(a*a) + (y-ch)*(y-ch)/(b*b))\n",
        "    if ellipse_radis < 0.8:\n",
        "      data[x,y] = [0,0, max(128,ellipse_radis*255)] # setting blue color proportional to the distance.\n",
        "\n",
        "# Convert array back to image\n",
        "img = Image.fromarray(data)\n",
        "img\n",
        "\n",
        "```\n",
        "**Tasks Todo**\n",
        "* Try to reproduce the code above, in the cell provided below.\n",
        "* Try to change the values of $a$ and $b$ and see how the shape changes (i.e. try $a=w/4$).\n",
        "* Change the code so it displayes a solid red ellipse.\n",
        "* Modify the code, to create a circle of half the radius of what is given in the example. (Use separate cell for each task)\n",
        "\n",
        "\n"
      ]
    },
    {
      "cell_type": "code",
      "execution_count": null,
      "metadata": {
        "id": "OnFLtM3cmAla"
      },
      "outputs": [],
      "source": [
        "# Use this cell to run the task of this section\n"
      ]
    },
    {
      "cell_type": "markdown",
      "metadata": {
        "id": "MHYZQ0jqELMQ"
      },
      "source": [
        "## Transforming images.\n",
        "\n",
        "Once we have an image loaded in memory, we can programmatically manipulate it's pixel values to transform the image. This pixel level transformation allow us to modify the image. For example, we can convert an image to gray-scale, enhance some colors of the image, or filter the image. The code below illustrates how to convert an image to grayscale by manipulating its pixel values.\n",
        "\n",
        "```python\n",
        "from PIL import Image\n",
        "import numpy as np\n",
        "import requests\n",
        "from io import BytesIO\n",
        "\n",
        " # Spefiy the URL of the image.\n",
        "url = \"https://www.libertyellisfoundation.org/statueoflibertymuseum/images/SOLM_Index_Main_photo.jpg\"\n",
        "url = \"https://www.visitcyprus.com/media/k2/items/cache/c99e3db826c0f4cc2688a36ce3b60e1a_XL.jpg\"\n",
        "\n",
        "res = requests.get(url)\n",
        "img = Image.open(BytesIO(res.content))\n",
        "\n",
        "# Get the data as as array\n",
        "img_data = np.asarray(img)\n",
        "\n",
        "[rows, cols, depth] = img_data.shape\n",
        "\n",
        "# Create an empty image with the same dimension\n",
        "grayscale_img_data = np.zeros((rows,cols,depth),dtype=np.uint8)\n",
        "\n",
        "# Assigne to each color channel the\n",
        "grayscale_img_data[:,:,0] = np.mean(img_data,axis=2) * 1\n",
        "grayscale_img_data[:,:,1] = np.mean(img_data,axis=2) * 1\n",
        "grayscale_img_data[:,:,2] = np.mean(img_data,axis=2) * 1\n",
        "\n",
        "# Convert the array data to an image\n",
        "grayscale_img = Image.fromarray(grayscale_img_data)\n",
        "\n",
        "grayscale_img\n",
        "```\n",
        "*Tasks Todo*\n",
        "* Try to reproduce the code above, in the cell provided below.\n",
        "* Try using different weights for each color channel (i.e. multiply each color channel with values less than one) and see how the image changes.\n",
        "* Try to weight some channels with values greater than one and see how the image changes.\n",
        "* Apply the threshold transformation on each color channel separetely and display the resulting image. The threshold rule to apply is as follows:\n",
        "  * if (pixel > threshold) set the pixel to the value 255; otherise set it to zero. Try different threshold values.\n"
      ]
    },
    {
      "cell_type": "code",
      "execution_count": null,
      "metadata": {
        "id": "75hFePi4DFjK"
      },
      "outputs": [],
      "source": [
        "# Try the tasks here.\n"
      ]
    },
    {
      "cell_type": "markdown",
      "metadata": {
        "id": "Q2Q8V0LlFtPb"
      },
      "source": [
        "## Crop and resize images.\n",
        "\n",
        "A common transformation we need to apply to image is that of croping and resizeing the image. The code below demonstrates how to achieve this.\n",
        "\n",
        "```python\n",
        "url = \"https://www.visitcyprus.com/media/k2/items/cache/c99e3db826c0f4cc2688a36ce3b60e1a_XL.jpg\"\n",
        "\n",
        "resize_pixels = 128\n",
        "\n",
        "res = requests.get(url)\n",
        "img = Image.open(BytesIO(res.content))\n",
        "\n",
        "# Convert image into a square image.\n",
        "cols, rows = img.size\n",
        "extra = (rows-cols)/2\n",
        "\n",
        "if (extra>0):  \n",
        "  # more rows than columns, crop rows\n",
        "  crop_box = (0,extra,cols,cols+extra)\n",
        "else:\n",
        "  # more cols than rows, crop cols\n",
        "  crop_box = (-extra,0,rows-extra,rows)\n",
        "\n",
        "# Crop image into a square and resize image based on resize_\n",
        "standarized_image = img.crop(crop_box).resize((resize_pixels,resize_pixels), Image.ANTIALIAS)\n",
        "\n",
        "standarized_image\n",
        "\n",
        "```\n",
        "**Tasks ToDo**\n",
        "* Try to reproduce the code above, in the cell provided below.\n",
        "* Load your one image and apply the crop and resize operations.\n",
        "\n",
        "\n"
      ]
    },
    {
      "cell_type": "code",
      "execution_count": null,
      "metadata": {
        "id": "PQxK5pb0Fz1P"
      },
      "outputs": [],
      "source": [
        "# Try the code above.\n"
      ]
    },
    {
      "cell_type": "markdown",
      "metadata": {
        "id": "EbStjscXH9VV"
      },
      "source": [
        "## Adding Noise to the image.\n",
        "Often times we might want to add noise to an image for the purpose to introducing variability in our training dataset and to benchmark the performance of our algorithms. There are several way to introduce noise in the image.\n",
        "\n",
        "One type of noise is the `salt and pepper noise`. That is with some probability alpha we transform a pixel value to either 0 or 255; and with probability (1-alpha) we leave the pixel unchanged. This introduces black and white pixels in the image that show as noise.\n",
        "\n",
        "**Task Todo**\n",
        "- Write a function that taks as an input an image and a noise level (i.e. alpha) and generates a noise version of the input image, using the `salt and pepper` noise.\n",
        "- Call you method to showcase that it works.\n"
      ]
    },
    {
      "cell_type": "code",
      "execution_count": null,
      "metadata": {
        "id": "X4CMOrY_Ghkp"
      },
      "outputs": [],
      "source": [
        "# Implement the task in this cell.\n"
      ]
    },
    {
      "cell_type": "markdown",
      "metadata": {
        "id": "R0Lwr-TkJfIJ"
      },
      "source": [
        "## Puting it all together\n",
        "Try to use the methods we cover above to peform the following tasks\n",
        "\n",
        "* Load three image of separate size.\n",
        "* Resize both images so they have same width and height.\n",
        "* Create a composite image that includes the red channel of the first image, the green channel of the second image, and the blue channel of the third image.\n",
        "* Add a circle overlay in the image; generate the circle programmatically.\n",
        "* Display the resulting image.\n",
        "* Create three noisy level of the image using `salt and pepper` noise. Use level noise of 6%, 12%, 24% and 50%. Display the images.\n",
        "\n",
        "\n"
      ]
    },
    {
      "cell_type": "code",
      "execution_count": null,
      "metadata": {
        "id": "pmF7gkUaLKKM"
      },
      "outputs": [],
      "source": []
    }
  ],
  "metadata": {
    "colab": {
      "provenance": [],
      "include_colab_link": true
    },
    "kernelspec": {
      "display_name": "base",
      "language": "python",
      "name": "python3"
    },
    "language_info": {
      "codemirror_mode": {
        "name": "ipython",
        "version": 3
      },
      "file_extension": ".py",
      "mimetype": "text/x-python",
      "name": "python",
      "nbconvert_exporter": "python",
      "pygments_lexer": "ipython3",
      "version": "3.11.5"
    }
  },
  "nbformat": 4,
  "nbformat_minor": 0
}